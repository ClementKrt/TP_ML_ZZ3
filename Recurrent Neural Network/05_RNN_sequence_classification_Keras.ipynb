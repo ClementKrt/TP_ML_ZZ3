{
  "cells": [
    {
      "cell_type": "markdown",
      "metadata": {
        "id": "OYwNNHNCFfIr"
      },
      "source": [
        "# Classification de séquences par réseaux récurrents\n",
        "Objectif : classification de données binaires (avis positifs/négatifs sur des films)"
      ]
    },
    {
      "cell_type": "markdown",
      "metadata": {
        "id": "6NnNPr2ZFfIt"
      },
      "source": [
        "## Imports"
      ]
    },
    {
      "cell_type": "code",
      "execution_count": 1,
      "metadata": {
        "id": "Zhq2VtnxFfIu"
      },
      "outputs": [],
      "source": [
        "import matplotlib as mpl\n",
        "import matplotlib.pyplot as plt\n",
        "import numpy as np\n",
        "import pandas as pd\n",
        "import sklearn\n",
        "import tensorflow as tf\n",
        "from tensorflow import keras\n",
        "from tensorflow.keras.datasets import imdb\n",
        "from tensorflow.keras.layers import Embedding, LSTM, Dense\n"
      ]
    },
    {
      "cell_type": "markdown",
      "metadata": {
        "id": "xqvzWapwFfIv"
      },
      "source": [
        "## Chargement des données\n",
        "Base de données IMDB (avis positif/négatif sur les films). On ne s'intéresse qu'aux 10000 mots les plus courants. On charge également la correspondance mot-> identifiant (id)"
      ]
    },
    {
      "cell_type": "code",
      "execution_count": 2,
      "metadata": {
        "tags": [],
        "colab": {
          "base_uri": "https://localhost:8080/"
        },
        "id": "XFn-iL9RFfIw",
        "outputId": "81cf0098-d7dc-4976-8494-ba60d7b4496d"
      },
      "outputs": [
        {
          "output_type": "stream",
          "name": "stdout",
          "text": [
            "Downloading data from https://storage.googleapis.com/tensorflow/tf-keras-datasets/imdb.npz\n",
            "17464789/17464789 [==============================] - 0s 0us/step\n",
            "Downloading data from https://storage.googleapis.com/tensorflow/tf-keras-datasets/imdb_word_index.json\n",
            "1641221/1641221 [==============================] - 0s 0us/step\n"
          ]
        }
      ],
      "source": [
        "num_words = 10000\n",
        "(X_train, y_train), (X_test, y_test) = imdb.load_data(num_words=num_words)\n",
        "word_index = imdb.get_word_index()"
      ]
    },
    {
      "cell_type": "markdown",
      "metadata": {
        "id": "jYAeeiNmFfIx"
      },
      "source": [
        "On créé une correspondance inverse id->mot en ajoutant des mots spéciaux"
      ]
    },
    {
      "cell_type": "code",
      "execution_count": 3,
      "metadata": {
        "id": "lCvcQcTWFfIy"
      },
      "outputs": [],
      "source": [
        "index = {word_id + 3: word for word, word_id in word_index.items()}\n",
        "index[0] = \"<pad>\" # padding\n",
        "index[1] = \"<sos>\" # début de séquence\n",
        "index[2] = \"<oov>\" # hors vocabulaire\n",
        "index[3] = \"<unk>\" # inconnu"
      ]
    },
    {
      "cell_type": "markdown",
      "metadata": {
        "id": "f-xHzciPFfIz"
      },
      "source": [
        "Fonction de lecture des avis"
      ]
    },
    {
      "cell_type": "code",
      "execution_count": 4,
      "metadata": {
        "tags": [],
        "colab": {
          "base_uri": "https://localhost:8080/"
        },
        "id": "a4w_xWWQFfI0",
        "outputId": "29e77761-b343-4848-dbc0-55174433e468"
      },
      "outputs": [
        {
          "output_type": "stream",
          "name": "stdout",
          "text": [
            "Un exemple d'avis :  <sos> french horror cinema has seen something of a revival over the last couple of years with great films such as inside and <oov> romance <oov> on to the scene <oov> <oov> the revival just slightly but stands head and shoulders over most modern horror titles and is surely one of the best french horror films ever made <oov> was obviously shot on a low budget but this is made up for in far more ways than one by the originality of the film and this in turn is <oov> by the excellent writing and acting that ensure the film is a winner the plot focuses on two main ideas prison and black magic the central character is a man named <oov> sent to prison for fraud he is put in a cell with three others the quietly insane <oov> body building <oov> marcus and his retarded boyfriend daisy after a short while in the cell together they stumble upon a hiding place in the wall that contains an old <oov> after <oov> part of it they soon realise its magical powers and realise they may be able to use it to break through the prison walls br br black magic is a very interesting topic and i'm actually quite surprised that there aren't more films based on it as there's so much scope for things to do with it it's fair to say that <oov> makes the best of it's <oov> as despite it's <oov> the film never actually feels restrained and manages to flow well throughout director eric <oov> provides a great atmosphere for the film the fact that most of it takes place inside the central prison cell <oov> that the film feels very claustrophobic and this immensely benefits the central idea of the prisoners wanting to use magic to break out of the cell it's very easy to get behind them it's often said that the unknown is the thing that really <oov> people and this film proves that as the director <oov> that we can never really be sure of exactly what is round the corner and this helps to ensure that <oov> actually does manage to be quite frightening the film is memorable for a lot of reasons outside the central plot the characters are all very interesting in their own way and the fact that the book itself almost takes on its own character is very well done anyone worried that the film won't deliver by the end won't be disappointed either as the ending both makes sense and manages to be quite horrifying overall <oov> is a truly great horror film and one of the best of the decade highly recommended viewing\n",
            "Avis positif (1)/négatif (0) :  0\n"
          ]
        }
      ],
      "source": [
        "def decode_review(word_ids):\n",
        "    return \" \".join([index.get(word_id, \"<err>\") for word_id in word_ids])\n",
        "\n",
        "print(\"Un exemple d'avis : \",decode_review(X_train[10]))\n",
        "print(\"Avis positif (1)/négatif (0) : \",y_train[1])"
      ]
    },
    {
      "cell_type": "markdown",
      "metadata": {
        "id": "Sr03uZKBFfI1"
      },
      "source": [
        "## Modèle de référence\n",
        "Pour évaluer le modèle RNN, on construit un modèle de référence sur lequel comparer les résultats. Le code vous est fourni"
      ]
    },
    {
      "cell_type": "code",
      "execution_count": 5,
      "metadata": {
        "id": "wgT77lA2FfI3"
      },
      "outputs": [],
      "source": [
        "X_train_text = [decode_review(words_ids) for words_ids in X_train]\n",
        "X_test_text = [decode_review(words_ids) for words_ids in X_test]"
      ]
    },
    {
      "cell_type": "code",
      "execution_count": 6,
      "metadata": {
        "id": "4fuaq3B0FfI4"
      },
      "outputs": [],
      "source": [
        "from sklearn.feature_extraction.text import CountVectorizer, TfidfTransformer\n",
        "from sklearn.pipeline import Pipeline\n",
        "from sklearn.linear_model import SGDClassifier"
      ]
    },
    {
      "cell_type": "code",
      "execution_count": 7,
      "metadata": {
        "id": "5WurjfQiFfI4"
      },
      "outputs": [],
      "source": [
        "processing = Pipeline([('vect', CountVectorizer()),('tfidf', TfidfTransformer()),('clf', SGDClassifier(max_iter=50)),])"
      ]
    },
    {
      "cell_type": "code",
      "execution_count": 8,
      "metadata": {
        "colab": {
          "base_uri": "https://localhost:8080/",
          "height": 163
        },
        "id": "p-jN4NCKFfI5",
        "outputId": "ee6cf9e0-4568-45ed-e158-402e66dc8b94"
      },
      "outputs": [
        {
          "output_type": "execute_result",
          "data": {
            "text/plain": [
              "Pipeline(steps=[('vect', CountVectorizer()), ('tfidf', TfidfTransformer()),\n",
              "                ('clf', SGDClassifier(max_iter=50))])"
            ],
            "text/html": [
              "<style>#sk-container-id-1 {color: black;background-color: white;}#sk-container-id-1 pre{padding: 0;}#sk-container-id-1 div.sk-toggleable {background-color: white;}#sk-container-id-1 label.sk-toggleable__label {cursor: pointer;display: block;width: 100%;margin-bottom: 0;padding: 0.3em;box-sizing: border-box;text-align: center;}#sk-container-id-1 label.sk-toggleable__label-arrow:before {content: \"▸\";float: left;margin-right: 0.25em;color: #696969;}#sk-container-id-1 label.sk-toggleable__label-arrow:hover:before {color: black;}#sk-container-id-1 div.sk-estimator:hover label.sk-toggleable__label-arrow:before {color: black;}#sk-container-id-1 div.sk-toggleable__content {max-height: 0;max-width: 0;overflow: hidden;text-align: left;background-color: #f0f8ff;}#sk-container-id-1 div.sk-toggleable__content pre {margin: 0.2em;color: black;border-radius: 0.25em;background-color: #f0f8ff;}#sk-container-id-1 input.sk-toggleable__control:checked~div.sk-toggleable__content {max-height: 200px;max-width: 100%;overflow: auto;}#sk-container-id-1 input.sk-toggleable__control:checked~label.sk-toggleable__label-arrow:before {content: \"▾\";}#sk-container-id-1 div.sk-estimator input.sk-toggleable__control:checked~label.sk-toggleable__label {background-color: #d4ebff;}#sk-container-id-1 div.sk-label input.sk-toggleable__control:checked~label.sk-toggleable__label {background-color: #d4ebff;}#sk-container-id-1 input.sk-hidden--visually {border: 0;clip: rect(1px 1px 1px 1px);clip: rect(1px, 1px, 1px, 1px);height: 1px;margin: -1px;overflow: hidden;padding: 0;position: absolute;width: 1px;}#sk-container-id-1 div.sk-estimator {font-family: monospace;background-color: #f0f8ff;border: 1px dotted black;border-radius: 0.25em;box-sizing: border-box;margin-bottom: 0.5em;}#sk-container-id-1 div.sk-estimator:hover {background-color: #d4ebff;}#sk-container-id-1 div.sk-parallel-item::after {content: \"\";width: 100%;border-bottom: 1px solid gray;flex-grow: 1;}#sk-container-id-1 div.sk-label:hover label.sk-toggleable__label {background-color: #d4ebff;}#sk-container-id-1 div.sk-serial::before {content: \"\";position: absolute;border-left: 1px solid gray;box-sizing: border-box;top: 0;bottom: 0;left: 50%;z-index: 0;}#sk-container-id-1 div.sk-serial {display: flex;flex-direction: column;align-items: center;background-color: white;padding-right: 0.2em;padding-left: 0.2em;position: relative;}#sk-container-id-1 div.sk-item {position: relative;z-index: 1;}#sk-container-id-1 div.sk-parallel {display: flex;align-items: stretch;justify-content: center;background-color: white;position: relative;}#sk-container-id-1 div.sk-item::before, #sk-container-id-1 div.sk-parallel-item::before {content: \"\";position: absolute;border-left: 1px solid gray;box-sizing: border-box;top: 0;bottom: 0;left: 50%;z-index: -1;}#sk-container-id-1 div.sk-parallel-item {display: flex;flex-direction: column;z-index: 1;position: relative;background-color: white;}#sk-container-id-1 div.sk-parallel-item:first-child::after {align-self: flex-end;width: 50%;}#sk-container-id-1 div.sk-parallel-item:last-child::after {align-self: flex-start;width: 50%;}#sk-container-id-1 div.sk-parallel-item:only-child::after {width: 0;}#sk-container-id-1 div.sk-dashed-wrapped {border: 1px dashed gray;margin: 0 0.4em 0.5em 0.4em;box-sizing: border-box;padding-bottom: 0.4em;background-color: white;}#sk-container-id-1 div.sk-label label {font-family: monospace;font-weight: bold;display: inline-block;line-height: 1.2em;}#sk-container-id-1 div.sk-label-container {text-align: center;}#sk-container-id-1 div.sk-container {/* jupyter's `normalize.less` sets `[hidden] { display: none; }` but bootstrap.min.css set `[hidden] { display: none !important; }` so we also need the `!important` here to be able to override the default hidden behavior on the sphinx rendered scikit-learn.org. See: https://github.com/scikit-learn/scikit-learn/issues/21755 */display: inline-block !important;position: relative;}#sk-container-id-1 div.sk-text-repr-fallback {display: none;}</style><div id=\"sk-container-id-1\" class=\"sk-top-container\"><div class=\"sk-text-repr-fallback\"><pre>Pipeline(steps=[(&#x27;vect&#x27;, CountVectorizer()), (&#x27;tfidf&#x27;, TfidfTransformer()),\n",
              "                (&#x27;clf&#x27;, SGDClassifier(max_iter=50))])</pre><b>In a Jupyter environment, please rerun this cell to show the HTML representation or trust the notebook. <br />On GitHub, the HTML representation is unable to render, please try loading this page with nbviewer.org.</b></div><div class=\"sk-container\" hidden><div class=\"sk-item sk-dashed-wrapped\"><div class=\"sk-label-container\"><div class=\"sk-label sk-toggleable\"><input class=\"sk-toggleable__control sk-hidden--visually\" id=\"sk-estimator-id-1\" type=\"checkbox\" ><label for=\"sk-estimator-id-1\" class=\"sk-toggleable__label sk-toggleable__label-arrow\">Pipeline</label><div class=\"sk-toggleable__content\"><pre>Pipeline(steps=[(&#x27;vect&#x27;, CountVectorizer()), (&#x27;tfidf&#x27;, TfidfTransformer()),\n",
              "                (&#x27;clf&#x27;, SGDClassifier(max_iter=50))])</pre></div></div></div><div class=\"sk-serial\"><div class=\"sk-item\"><div class=\"sk-estimator sk-toggleable\"><input class=\"sk-toggleable__control sk-hidden--visually\" id=\"sk-estimator-id-2\" type=\"checkbox\" ><label for=\"sk-estimator-id-2\" class=\"sk-toggleable__label sk-toggleable__label-arrow\">CountVectorizer</label><div class=\"sk-toggleable__content\"><pre>CountVectorizer()</pre></div></div></div><div class=\"sk-item\"><div class=\"sk-estimator sk-toggleable\"><input class=\"sk-toggleable__control sk-hidden--visually\" id=\"sk-estimator-id-3\" type=\"checkbox\" ><label for=\"sk-estimator-id-3\" class=\"sk-toggleable__label sk-toggleable__label-arrow\">TfidfTransformer</label><div class=\"sk-toggleable__content\"><pre>TfidfTransformer()</pre></div></div></div><div class=\"sk-item\"><div class=\"sk-estimator sk-toggleable\"><input class=\"sk-toggleable__control sk-hidden--visually\" id=\"sk-estimator-id-4\" type=\"checkbox\" ><label for=\"sk-estimator-id-4\" class=\"sk-toggleable__label sk-toggleable__label-arrow\">SGDClassifier</label><div class=\"sk-toggleable__content\"><pre>SGDClassifier(max_iter=50)</pre></div></div></div></div></div></div></div>"
            ]
          },
          "metadata": {},
          "execution_count": 8
        }
      ],
      "source": [
        "processing.fit(X_train_text, y_train)"
      ]
    },
    {
      "cell_type": "code",
      "execution_count": 9,
      "metadata": {
        "tags": [],
        "colab": {
          "base_uri": "https://localhost:8080/"
        },
        "id": "eYJyzX8XFfI6",
        "outputId": "e12b10e6-aad9-4eac-a691-4a2ec409979c"
      },
      "outputs": [
        {
          "output_type": "stream",
          "name": "stdout",
          "text": [
            "Précision du modèle de référence :  0.885\n",
            "Test du modèle (avis 0 attendu ) :  [0]\n",
            "Test du modèle (avis 1 attendu ) :  [1]\n"
          ]
        }
      ],
      "source": [
        "print(\"Précision du modèle de référence : \",processing.score(X_test_text, y_test))\n",
        "print(\"Test du modèle (avis 0 attendu ) : \", processing.predict([\"this movie was really awful\"]))\n",
        "print(\"Test du modèle (avis 1 attendu ) : \", processing.predict([\"this movie was really fantastic\"]))"
      ]
    },
    {
      "cell_type": "markdown",
      "metadata": {
        "id": "y546V9G3FfI7"
      },
      "source": [
        "## Classification de séquences par réseau récurrent"
      ]
    },
    {
      "cell_type": "code",
      "execution_count": 10,
      "metadata": {
        "id": "TxPHddZkFfI7"
      },
      "outputs": [],
      "source": [
        "from tensorflow.keras.preprocessing.text import Tokenizer\n",
        "from tensorflow.keras.preprocessing.sequence import pad_sequences\n",
        "\n",
        "maxlen = 500\n",
        "\n",
        "# Créer un objet Tokenizer\n",
        "tokenizer = Tokenizer()\n",
        "tokenizer.fit_on_texts(X_train_text)\n",
        "\n",
        "# Convertir les textes en séquences d'entiers\n",
        "X_train_sequences = tokenizer.texts_to_sequences(X_train_text)\n",
        "X_test_sequences = tokenizer.texts_to_sequences(X_test_text)\n",
        "\n",
        "# Appliquer pad_sequences pour obtenir la matrice 2D\n",
        "padded_sequences_train = pad_sequences(X_train_sequences, maxlen=maxlen)\n",
        "padded_sequences_test = pad_sequences(X_test_sequences, maxlen=maxlen)"
      ]
    },
    {
      "cell_type": "code",
      "execution_count": 11,
      "metadata": {
        "tags": [],
        "colab": {
          "base_uri": "https://localhost:8080/"
        },
        "id": "NgqEzQlzFfI8",
        "outputId": "5355099b-746f-4927-9467-58750f07fb38"
      },
      "outputs": [
        {
          "output_type": "stream",
          "name": "stdout",
          "text": [
            "Model: \"sequential\"\n",
            "_________________________________________________________________\n",
            " Layer (type)                Output Shape              Param #   \n",
            "=================================================================\n",
            " embedding (Embedding)       (None, 500, 10)           99990     \n",
            "                                                                 \n",
            " lstm (LSTM)                 (None, 32)                5504      \n",
            "                                                                 \n",
            " dense (Dense)               (None, 1)                 33        \n",
            "                                                                 \n",
            "=================================================================\n",
            "Total params: 105527 (412.21 KB)\n",
            "Trainable params: 105527 (412.21 KB)\n",
            "Non-trainable params: 0 (0.00 Byte)\n",
            "_________________________________________________________________\n"
          ]
        }
      ],
      "source": [
        "from tensorflow.keras.models import Sequential\n",
        "from tensorflow.keras.layers import Embedding, Bidirectional, LSTM, Dense, Dropout\n",
        "\n",
        "# Créer un modèle Sequential\n",
        "model = Sequential()\n",
        "\n",
        "# Ajouter une couche d'Embedding\n",
        "model.add(Embedding(input_dim=len(tokenizer.word_index) + 1, output_dim=10, input_length=maxlen))\n",
        "\n",
        "# Ajouter une couche LSTM avec 32 neurones\n",
        "model.add(LSTM(32))\n",
        "\n",
        "# Ajouter une couche dense de sortie avec activation sigmoid (classification binaire)\n",
        "model.add(Dense(1, activation='sigmoid'))\n",
        "\n",
        "# Compiler le modèle avec la fonction de perte binaire_crossentropy\n",
        "model.compile(loss='binary_crossentropy', optimizer='adam', metrics=['accuracy'])\n",
        "model.summary()\n",
        "\n",
        "X_train_trim = padded_sequences_train\n",
        "X_test_trim = padded_sequences_test\n"
      ]
    },
    {
      "cell_type": "code",
      "execution_count": 12,
      "metadata": {
        "tags": [],
        "colab": {
          "base_uri": "https://localhost:8080/"
        },
        "id": "9_z-YhnoFfI9",
        "outputId": "8b384076-b14a-49ae-96aa-e9413e955405"
      },
      "outputs": [
        {
          "output_type": "stream",
          "name": "stdout",
          "text": [
            "Epoch 1/10\n",
            "157/157 [==============================] - 37s 185ms/step - loss: 0.6334 - accuracy: 0.6414 - val_loss: 0.5962 - val_accuracy: 0.7112\n",
            "Epoch 2/10\n",
            "157/157 [==============================] - 24s 154ms/step - loss: 0.3673 - accuracy: 0.8485 - val_loss: 0.3043 - val_accuracy: 0.8764\n",
            "Epoch 3/10\n",
            "157/157 [==============================] - 18s 113ms/step - loss: 0.2219 - accuracy: 0.9183 - val_loss: 0.2775 - val_accuracy: 0.8872\n",
            "Epoch 4/10\n",
            "157/157 [==============================] - 14s 88ms/step - loss: 0.1771 - accuracy: 0.9363 - val_loss: 0.2995 - val_accuracy: 0.8904\n",
            "Epoch 5/10\n",
            "157/157 [==============================] - 10s 63ms/step - loss: 0.1308 - accuracy: 0.9571 - val_loss: 0.3281 - val_accuracy: 0.8628\n",
            "Epoch 6/10\n",
            "157/157 [==============================] - 9s 57ms/step - loss: 0.1144 - accuracy: 0.9626 - val_loss: 0.3327 - val_accuracy: 0.8874\n",
            "Epoch 7/10\n",
            "157/157 [==============================] - 10s 62ms/step - loss: 0.0952 - accuracy: 0.9697 - val_loss: 0.3364 - val_accuracy: 0.8698\n",
            "Epoch 8/10\n",
            "157/157 [==============================] - 9s 56ms/step - loss: 0.0883 - accuracy: 0.9724 - val_loss: 0.4106 - val_accuracy: 0.8802\n",
            "Epoch 9/10\n",
            "157/157 [==============================] - 7s 44ms/step - loss: 0.0625 - accuracy: 0.9828 - val_loss: 0.4210 - val_accuracy: 0.8754\n",
            "Epoch 10/10\n",
            "157/157 [==============================] - 7s 46ms/step - loss: 0.0793 - accuracy: 0.9739 - val_loss: 0.4254 - val_accuracy: 0.8652\n"
          ]
        }
      ],
      "source": [
        "history = model.fit(X_train_trim, y_train,epochs=10, batch_size=128, validation_split=0.2)"
      ]
    },
    {
      "cell_type": "code",
      "execution_count": 13,
      "metadata": {
        "colab": {
          "base_uri": "https://localhost:8080/",
          "height": 487
        },
        "id": "TRbkyfniFfI-",
        "outputId": "f9e51fee-8d14-4052-af6c-83e3be21477c"
      },
      "outputs": [
        {
          "output_type": "display_data",
          "data": {
            "text/plain": [
              "<Figure size 640x480 with 1 Axes>"
            ],
            "image/png": "[encoded data removed]"
          },
          "metadata": {}
        }
      ],
      "source": [
        "plt.plot(history.history['accuracy'])\n",
        "plt.title('Précision')\n",
        "plt.ylabel('Précision')\n",
        "plt.xlabel('epoch')\n",
        "plt.tight_layout()"
      ]
    },
    {
      "cell_type": "code",
      "execution_count": 14,
      "metadata": {
        "tags": [],
        "colab": {
          "base_uri": "https://localhost:8080/"
        },
        "id": "lW-t8yI-FfI-",
        "outputId": "da6034b6-4de9-456b-e747-de4e69aeac66"
      },
      "outputs": [
        {
          "output_type": "stream",
          "name": "stdout",
          "text": [
            "782/782 [==============================] - 7s 8ms/step - loss: 0.4653 - accuracy: 0.8562\n",
            "Test du modèle (avis 0 attendu ) :  [0]\n",
            "Test du modèle (avis 1 attendu ) :  [1]\n"
          ]
        }
      ],
      "source": [
        "model.evaluate(X_test_trim, y_test)\n",
        "print(\"Test du modèle (avis 0 attendu ) : \", processing.predict([\"this movie was really awful\"]))\n",
        "print(\"Test du modèle (avis 1 attendu ) : \", processing.predict([\"this movie was really fantastic\"]))"
      ]
    },
    {
      "cell_type": "markdown",
      "metadata": {
        "id": "Kq8cjuk3FfJA"
      },
      "source": [
        "## Utilisation d'un réseau bidirectionnel"
      ]
    },
    {
      "cell_type": "code",
      "execution_count": 15,
      "metadata": {
        "id": "IvDANOotFfJA"
      },
      "outputs": [],
      "source": [
        "from tensorflow.keras.layers import Dropout, Bidirectional\n",
        "\n",
        "from tensorflow.keras.models import Sequential\n",
        "from tensorflow.keras.layers import Embedding, Bidirectional, LSTM, Dense, Dropout\n",
        "\n",
        "# Créer un modèle Sequential\n",
        "model = Sequential()\n",
        "\n",
        "# Ajouter une couche d'Embedding\n",
        "model.add(Embedding(input_dim=len(tokenizer.word_index) + 1, output_dim=10, input_length=maxlen))\n",
        "\n",
        "# Ajouter une couche LSTM bidirectionnelle avec 32 neurones\n",
        "model.add(Bidirectional(LSTM(32)))\n",
        "\n",
        "# Ajouter une couche de Dropout pour éviter le surapprentissage\n",
        "model.add(Dropout(0.5))\n",
        "\n",
        "# Ajouter une couche dense de sortie avec activation sigmoid (classification binaire)\n",
        "model.add(Dense(1, activation='sigmoid'))\n",
        "\n",
        "X_train_trim = padded_sequences_train\n",
        "X_test_trim = padded_sequences_test"
      ]
    },
    {
      "cell_type": "code",
      "execution_count": 16,
      "metadata": {
        "id": "v-Al-y6yFfJA"
      },
      "outputs": [],
      "source": [
        "model.compile(loss=\"binary_crossentropy\", optimizer=\"rmsprop\", metrics=[\"accuracy\"])"
      ]
    },
    {
      "cell_type": "code",
      "execution_count": 17,
      "metadata": {
        "tags": [],
        "colab": {
          "base_uri": "https://localhost:8080/"
        },
        "id": "1LLNzUREFfJB",
        "outputId": "174927e4-6b4e-4549-80f6-01779ea35380"
      },
      "outputs": [
        {
          "output_type": "stream",
          "name": "stdout",
          "text": [
            "Epoch 1/10\n",
            "157/157 [==============================] - 30s 155ms/step - loss: 0.6751 - accuracy: 0.5719 - val_loss: 0.5547 - val_accuracy: 0.7742\n",
            "Epoch 2/10\n",
            "157/157 [==============================] - 19s 119ms/step - loss: 0.4706 - accuracy: 0.8027 - val_loss: 0.5464 - val_accuracy: 0.7404\n",
            "Epoch 3/10\n",
            "157/157 [==============================] - 15s 94ms/step - loss: 0.3362 - accuracy: 0.8658 - val_loss: 0.3621 - val_accuracy: 0.8496\n",
            "Epoch 4/10\n",
            "157/157 [==============================] - 12s 78ms/step - loss: 0.2720 - accuracy: 0.8955 - val_loss: 0.2951 - val_accuracy: 0.8794\n",
            "Epoch 5/10\n",
            "157/157 [==============================] - 11s 68ms/step - loss: 0.2386 - accuracy: 0.9143 - val_loss: 0.3403 - val_accuracy: 0.8776\n",
            "Epoch 6/10\n",
            "157/157 [==============================] - 9s 57ms/step - loss: 0.2057 - accuracy: 0.9251 - val_loss: 0.2922 - val_accuracy: 0.8828\n",
            "Epoch 7/10\n",
            "157/157 [==============================] - 9s 60ms/step - loss: 0.1887 - accuracy: 0.9348 - val_loss: 0.3440 - val_accuracy: 0.8824\n",
            "Epoch 8/10\n",
            "157/157 [==============================] - 9s 57ms/step - loss: 0.1702 - accuracy: 0.9406 - val_loss: 0.3324 - val_accuracy: 0.8824\n",
            "Epoch 9/10\n",
            "157/157 [==============================] - 9s 60ms/step - loss: 0.1605 - accuracy: 0.9446 - val_loss: 0.3596 - val_accuracy: 0.8766\n",
            "Epoch 10/10\n",
            "157/157 [==============================] - 8s 52ms/step - loss: 0.1475 - accuracy: 0.9494 - val_loss: 0.3241 - val_accuracy: 0.8846\n"
          ]
        }
      ],
      "source": [
        "history = model.fit(X_train_trim, y_train,epochs=10, batch_size=128, validation_split=0.2)"
      ]
    },
    {
      "cell_type": "code",
      "execution_count": 18,
      "metadata": {
        "scrolled": true,
        "tags": [],
        "colab": {
          "base_uri": "https://localhost:8080/"
        },
        "id": "uL8koy8oFfJB",
        "outputId": "c1f8a5a2-dab0-41bf-dec2-da12b881f680"
      },
      "outputs": [
        {
          "output_type": "stream",
          "name": "stdout",
          "text": [
            "782/782 [==============================] - 12s 15ms/step - loss: 0.3515 - accuracy: 0.8742\n",
            "Test du modèle (avis 0 attendu ) :  [0]\n",
            "Test du modèle (avis 1 attendu ) :  [1]\n"
          ]
        }
      ],
      "source": [
        "model.evaluate(X_test_trim, y_test)\n",
        "print(\"Test du modèle (avis 0 attendu ) : \", processing.predict([\"this movie was really awful\"]))\n",
        "print(\"Test du modèle (avis 1 attendu ) : \", processing.predict([\"this movie was really fantastic\"]))"
      ]
    }
  ],
  "metadata": {
    "kernelspec": {
      "display_name": "Python 3.8.5 64-bit",
      "language": "python",
      "name": "python_defaultSpec_1596639813537"
    },
    "language_info": {
      "codemirror_mode": {
        "name": "ipython",
        "version": 3
      },
      "file_extension": ".py",
      "mimetype": "text/x-python",
      "name": "python",
      "nbconvert_exporter": "python",
      "pygments_lexer": "ipython3",
      "version": "3.8.5-final"
    },
    "colab": {
      "provenance": [],
      "gpuType": "T4"
    },
    "accelerator": "GPU"
  },
  "nbformat": 4,
  "nbformat_minor": 0
}